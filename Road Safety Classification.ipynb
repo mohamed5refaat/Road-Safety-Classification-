{
 "cells": [
  {
   "cell_type": "code",
   "execution_count": 18,
   "id": "141103c2-3271-4a98-ac5b-e9f17eb89f77",
   "metadata": {},
   "outputs": [],
   "source": [
    "import warnings\n",
    "warnings.filterwarnings('ignore')"
   ]
  },
  {
   "cell_type": "code",
   "execution_count": 37,
   "id": "9ed59c39-5d72-4047-917c-186f030241b2",
   "metadata": {},
   "outputs": [],
   "source": [
    "import os\n",
    "import numpy as np\n",
    "import tensorflow as tf\n",
    "import matplotlib.pyplot as plt\n",
    "from tensorflow.keras.preprocessing.image import ImageDataGenerator\n",
    "from tensorflow.keras import layers, models\n",
    "from tensorflow.keras.optimizers import Adam\n",
    "import pyswarms as ps\n",
    "from pyswarms.utils.plotters import plot_cost_history\n",
    "from sklearn.metrics import confusion_matrix, classification_report\n",
    "import seaborn as sns\n",
    "import numpy as np\n",
    "\n",
    "\n",
    "\n",
    "\n",
    "\n"
   ]
  },
  {
   "cell_type": "code",
   "execution_count": 21,
   "id": "95d76764-c6e1-4fd1-b481-444bbb775124",
   "metadata": {},
   "outputs": [],
   "source": [
    "\n",
    "train_dir = 'Desktop/Semester 6/Optimization Techniques/Dataset/train'\n",
    "val_dir = 'Desktop/Semester 6/Optimization Techniques/Dataset/validation'\n",
    "test_dir = 'Desktop/Semester 6/Optimization Techniques/Dataset/test'\n",
    "\n"
   ]
  },
  {
   "cell_type": "code",
   "execution_count": 22,
   "id": "19b626f3-4441-47ab-b65e-a4cd95ca7cff",
   "metadata": {},
   "outputs": [
    {
     "name": "stdout",
     "output_type": "stream",
     "text": [
      "Found 2196 images belonging to 2 classes.\n",
      "Found 2196 images belonging to 2 classes.\n",
      "Found 2196 images belonging to 2 classes.\n"
     ]
    }
   ],
   "source": [
    "train_datagen = ImageDataGenerator(\n",
    "    rescale=1./255,\n",
    "    rotation_range=20,\n",
    "    width_shift_range=0.2,\n",
    "    height_shift_range=0.2,\n",
    "    shear_range=0.1,\n",
    "    zoom_range=0.2,\n",
    "    horizontal_flip=True,\n",
    "    fill_mode='nearest'\n",
    ")\n",
    "\n",
    "val_datagen = ImageDataGenerator(rescale=1./255)\n",
    "test_datagen = ImageDataGenerator(rescale=1./255)\n",
    "\n",
    "train_generator = train_datagen.flow_from_directory(\n",
    "    train_dir,\n",
    "    target_size=(150, 150),\n",
    "    batch_size=32,\n",
    "    class_mode='binary'\n",
    ")\n",
    "\n",
    "validation_generator = val_datagen.flow_from_directory(\n",
    "    val_dir,\n",
    "    target_size=(150, 150),\n",
    "    batch_size=32,\n",
    "    class_mode='binary'\n",
    ")\n",
    "\n",
    "test_generator = test_datagen.flow_from_directory(\n",
    "    test_dir,\n",
    "    target_size=(150, 150),\n",
    "    batch_size=32,\n",
    "    class_mode='binary'\n",
    ")\n",
    "\n",
    "\n"
   ]
  },
  {
   "cell_type": "code",
   "execution_count": 23,
   "id": "f956d21c-d13d-4e67-aca7-6bb40585baf4",
   "metadata": {},
   "outputs": [],
   "source": [
    "def build_model(learning_rate, dropout_rate):\n",
    "    model = tf.keras.Sequential([\n",
    "        layers.Input(shape=(150, 150, 3)),\n",
    "\n",
    "        \n",
    "        layers.Conv2D(32, (3, 3), activation='relu'),\n",
    "        layers.MaxPooling2D(2, 2),\n",
    "\n",
    "       \n",
    "        layers.Conv2D(64, (3, 3), activation='relu'),\n",
    "        layers.MaxPooling2D(2, 2),\n",
    "\n",
    "       \n",
    "        layers.Conv2D(128, (3, 3), activation='relu'),\n",
    "        layers.MaxPooling2D(2, 2),\n",
    "\n",
    "        \n",
    "        layers.Flatten(),\n",
    "        layers.Dense(256, activation='relu'),  \n",
    "        layers.Dropout(dropout_rate),\n",
    "        layers.Dense(1, activation='sigmoid')\n",
    "    ])\n",
    "\n",
    "    model.compile(\n",
    "        optimizer=tf.keras.optimizers.Adam(learning_rate=learning_rate),\n",
    "        loss='binary_crossentropy',\n",
    "        metrics=['accuracy']\n",
    "    )\n",
    "    return model\n",
    "\n",
    "\n"
   ]
  },
  {
   "cell_type": "code",
   "execution_count": 24,
   "id": "6b2576a0-9109-48df-86ea-1d836a24f171",
   "metadata": {},
   "outputs": [],
   "source": [
    "def objective_function(params):\n",
    "    learning_rate, dropout_rate = params\n",
    "    model = build_model(learning_rate, dropout_rate)\n",
    "\n",
    "    early_stop = tf.keras.callbacks.EarlyStopping(patience=2, restore_best_weights=True)\n",
    "    history = model.fit(\n",
    "        train_generator,\n",
    "        validation_data=validation_generator,\n",
    "        epochs=5,\n",
    "        callbacks=[early_stop],\n",
    "        verbose=0\n",
    "    )\n",
    "    \n",
    "    val_acc = history.history['val_accuracy'][-1]\n",
    "    return -val_acc  \n",
    "\n",
    "\n"
   ]
  },
  {
   "cell_type": "code",
   "execution_count": 25,
   "id": "6a79a774-8f7a-4e1e-9fe7-f0813773652e",
   "metadata": {},
   "outputs": [],
   "source": [
    "def pso_wrapper(x):\n",
    "    return np.array([objective_function(p) for p in x])\n"
   ]
  },
  {
   "cell_type": "code",
   "execution_count": 26,
   "id": "d98d8673-1f88-4b99-9357-bb20d285e0ce",
   "metadata": {},
   "outputs": [
    {
     "name": "stderr",
     "output_type": "stream",
     "text": [
      "2025-05-07 21:56:08,513 - pyswarms.single.global_best - INFO - Optimize for 5 iters with {'c1': 0.5, 'c2': 0.3, 'w': 0.9}\n",
      "pyswarms.single.global_best: 100%|██████████|5/5, best_cost=-0.961\n",
      "2025-05-07 22:49:24,704 - pyswarms.single.global_best - INFO - Optimization finished | best cost: -0.9612932801246643, best pos: [0.00092713 0.38891934]\n"
     ]
    },
    {
     "name": "stdout",
     "output_type": "stream",
     "text": [
      "Learning rate: 0.0009271266135498835, Dropout rate: 0.3889193383528591\n"
     ]
    }
   ],
   "source": [
    "\n",
    "bounds = ([1e-5, 0.1], [1e-2, 0.5])  \n",
    "optimizer = ps.single.GlobalBestPSO(n_particles=5, dimensions=2,\n",
    "                                    options={'c1': 0.5, 'c2': 0.3, 'w': 0.9},\n",
    "                                    bounds=bounds)\n",
    "\n",
    "best_cost, best_pos = optimizer.optimize(pso_wrapper, iters=5)\n",
    "print(f\"Learning rate: {best_pos[0]}, Dropout rate: {best_pos[1]}\")"
   ]
  },
  {
   "cell_type": "code",
   "execution_count": 27,
   "id": "2b0feb1c-5239-4e32-86b4-1eddf23667b7",
   "metadata": {},
   "outputs": [
    {
     "name": "stdout",
     "output_type": "stream",
     "text": [
      "Epoch 1/15\n",
      "69/69 [==============================] - 27s 378ms/step - loss: 0.4397 - accuracy: 0.7864 - val_loss: 0.2719 - val_accuracy: 0.8930\n",
      "Epoch 2/15\n",
      "69/69 [==============================] - 27s 388ms/step - loss: 0.2926 - accuracy: 0.8543 - val_loss: 0.2531 - val_accuracy: 0.8625\n",
      "Epoch 3/15\n",
      "69/69 [==============================] - 28s 402ms/step - loss: 0.2734 - accuracy: 0.8739 - val_loss: 0.2196 - val_accuracy: 0.8825\n",
      "Epoch 4/15\n",
      "69/69 [==============================] - 28s 401ms/step - loss: 0.2296 - accuracy: 0.8998 - val_loss: 0.1603 - val_accuracy: 0.9285\n",
      "Epoch 5/15\n",
      "69/69 [==============================] - 28s 399ms/step - loss: 0.2110 - accuracy: 0.9066 - val_loss: 0.1395 - val_accuracy: 0.9467\n",
      "Epoch 6/15\n",
      "69/69 [==============================] - 28s 400ms/step - loss: 0.2264 - accuracy: 0.8966 - val_loss: 0.1432 - val_accuracy: 0.9472\n",
      "Epoch 7/15\n",
      "69/69 [==============================] - 28s 413ms/step - loss: 0.1757 - accuracy: 0.9262 - val_loss: 0.1228 - val_accuracy: 0.9590\n",
      "Epoch 8/15\n",
      "69/69 [==============================] - 28s 408ms/step - loss: 0.1803 - accuracy: 0.9276 - val_loss: 0.1123 - val_accuracy: 0.9599\n",
      "Epoch 9/15\n",
      "69/69 [==============================] - 28s 400ms/step - loss: 0.1627 - accuracy: 0.9353 - val_loss: 0.1588 - val_accuracy: 0.9139\n",
      "Epoch 10/15\n",
      "69/69 [==============================] - 28s 399ms/step - loss: 0.1343 - accuracy: 0.9490 - val_loss: 0.0721 - val_accuracy: 0.9763\n",
      "Epoch 11/15\n",
      "69/69 [==============================] - 28s 400ms/step - loss: 0.1228 - accuracy: 0.9572 - val_loss: 0.0921 - val_accuracy: 0.9759\n",
      "Epoch 12/15\n",
      "69/69 [==============================] - 27s 397ms/step - loss: 0.1117 - accuracy: 0.9581 - val_loss: 0.0639 - val_accuracy: 0.9786\n",
      "Epoch 13/15\n",
      "69/69 [==============================] - 27s 397ms/step - loss: 0.0958 - accuracy: 0.9668 - val_loss: 0.0521 - val_accuracy: 0.9795\n",
      "Epoch 14/15\n",
      "69/69 [==============================] - 28s 411ms/step - loss: 0.0891 - accuracy: 0.9681 - val_loss: 0.0563 - val_accuracy: 0.9804\n",
      "Epoch 15/15\n",
      "69/69 [==============================] - 28s 402ms/step - loss: 0.0849 - accuracy: 0.9718 - val_loss: 0.0289 - val_accuracy: 0.9959\n"
     ]
    }
   ],
   "source": [
    "\n",
    "final_model = build_model(best_pos[0], best_pos[1])\n",
    "\n",
    "\n",
    "history = final_model.fit(\n",
    "    train_generator,\n",
    "    epochs=15,\n",
    "    validation_data=validation_generator,\n",
    "    callbacks=[tf.keras.callbacks.EarlyStopping(patience=2, restore_best_weights=True)]\n",
    ")\n"
   ]
  },
  {
   "cell_type": "code",
   "execution_count": 28,
   "id": "345031b5-827a-4cda-b22b-dc61a543dfe8",
   "metadata": {},
   "outputs": [
    {
     "name": "stdout",
     "output_type": "stream",
     "text": [
      "69/69 [==============================] - 6s 84ms/step - loss: 0.0313 - accuracy: 0.9954\n",
      "Test Accuracy: 99.54%\n"
     ]
    }
   ],
   "source": [
    "loss, accuracy = final_model.evaluate(test_generator)\n",
    "print(f\"Test Accuracy: {accuracy * 100:.2f}%\")\n",
    "\n"
   ]
  },
  {
   "cell_type": "code",
   "execution_count": 31,
   "id": "68c5b406-9a54-4323-8f52-9eed81145966",
   "metadata": {},
   "outputs": [
    {
     "data": {
      "image/png": "[encoded data removed]",
      "text/plain": [
       "<Figure size 640x480 with 1 Axes>"
      ]
     },
     "metadata": {},
     "output_type": "display_data"
    }
   ],
   "source": [
    "plt.plot(history.history['accuracy'], label='Train Acc')\n",
    "plt.plot(history.history['val_accuracy'], label='Val Acc')\n",
    "plt.legend()\n",
    "plt.show()\n"
   ]
  },
  {
   "cell_type": "code",
   "execution_count": 38,
   "id": "d7b741d6-d7bf-41cb-8c01-1e6900d21957",
   "metadata": {},
   "outputs": [
    {
     "name": "stdout",
     "output_type": "stream",
     "text": [
      "69/69 [==============================] - 5s 67ms/step\n"
     ]
    },
    {
     "data": {
      "image/png": "[encoded data removed]",
      "text/plain": [
       "<Figure size 600x400 with 2 Axes>"
      ]
     },
     "metadata": {},
     "output_type": "display_data"
    },
    {
     "name": "stdout",
     "output_type": "stream",
     "text": [
      "              precision    recall  f1-score   support\n",
      "\n",
      "           0       0.74      0.75      0.74      1632\n",
      "           1       0.26      0.25      0.25       564\n",
      "\n",
      "    accuracy                           0.62      2196\n",
      "   macro avg       0.50      0.50      0.50      2196\n",
      "weighted avg       0.62      0.62      0.62      2196\n",
      "\n"
     ]
    }
   ],
   "source": [
    "\n",
    "y_pred = final_model.predict(test_generator)\n",
    "y_pred_classes = (y_pred > 0.5).astype(\"int32\")\n",
    "\n",
    "\n",
    "y_true = test_generator.classes\n",
    "\n",
    "\n",
    "cm = confusion_matrix(y_true, y_pred_classes)\n",
    "\n",
    "\n",
    "plt.figure(figsize=(6,4))\n",
    "sns.heatmap(cm, annot=True, fmt='d', cmap='Blues')\n",
    "plt.title('Confusion Matrix')\n",
    "plt.xlabel('Predicted')\n",
    "plt.ylabel('Actual')\n",
    "plt.show()\n",
    "\n",
    "\n",
    "print(classification_report(y_true, y_pred_classes))\n"
   ]
  },
  {
   "cell_type": "code",
   "execution_count": 39,
   "id": "c5d437e9-8a66-473c-a3ff-dcbcb9189971",
   "metadata": {},
   "outputs": [],
   "source": [
    "final_model.save('road_safety_model.h5')\n"
   ]
  },
  {
   "cell_type": "code",
   "execution_count": null,
   "id": "575222e3-52c5-41d7-86e8-7e9fff9f70fa",
   "metadata": {},
   "outputs": [],
   "source": []
  }
 ],
 "metadata": {
  "kernelspec": {
   "display_name": "Python 3 (ipykernel)",
   "language": "python",
   "name": "python3"
  },
  "language_info": {
   "codemirror_mode": {
    "name": "ipython",
    "version": 3
   },
   "file_extension": ".py",
   "mimetype": "text/x-python",
   "name": "python",
   "nbconvert_exporter": "python",
   "pygments_lexer": "ipython3",
   "version": "3.10.16"
  }
 },
 "nbformat": 4,
 "nbformat_minor": 5
}
